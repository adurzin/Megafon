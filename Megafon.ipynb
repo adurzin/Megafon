{
 "cells": [
  {
   "cell_type": "code",
   "execution_count": 1,
   "id": "84f5334b",
   "metadata": {},
   "outputs": [],
   "source": [
    "import numpy as np\n",
    "import pandas as pd\n",
    "from sklearn.linear_model import LogisticRegression\n",
    "from sklearn.model_selection import GridSearchCV, KFold, train_test_split, cross_validate\n",
    "from sklearn.preprocessing import OneHotEncoder, StandardScaler\n",
    "from sklearn.pipeline import Pipeline, make_pipeline, FeatureUnion\n",
    "from sklearn.metrics import classification_report\n",
    "from datetime import datetime\n",
    "from dask import dataframe\n",
    "from sklearn.ensemble import GradientBoostingClassifier\n",
    "from lightgbm import LGBMClassifier\n",
    "\n",
    "\n",
    "from matplotlib import pyplot as plt\n",
    "import seaborn as sns\n",
    "\n",
    "import warnings\n",
    "warnings.filterwarnings('ignore')\n",
    "\n",
    "%matplotlib inline"
   ]
  },
  {
   "cell_type": "code",
   "execution_count": 2,
   "id": "714d10f3",
   "metadata": {},
   "outputs": [],
   "source": [
    "import utils\n",
    "df = utils.prepare_train('data_train.csv', 'features.csv/features.csv')"
   ]
  },
  {
   "cell_type": "code",
   "execution_count": null,
   "id": "ffc867b4",
   "metadata": {},
   "outputs": [],
   "source": [
    "df.to_csv('prepare_train.csv')"
   ]
  },
  {
   "cell_type": "code",
   "execution_count": 3,
   "id": "41c6e99d",
   "metadata": {
    "scrolled": false
   },
   "outputs": [
    {
     "data": {
      "text/html": [
       "<div>\n",
       "<style scoped>\n",
       "    .dataframe tbody tr th:only-of-type {\n",
       "        vertical-align: middle;\n",
       "    }\n",
       "\n",
       "    .dataframe tbody tr th {\n",
       "        vertical-align: top;\n",
       "    }\n",
       "\n",
       "    .dataframe thead th {\n",
       "        text-align: right;\n",
       "    }\n",
       "</style>\n",
       "<table border=\"1\" class=\"dataframe\">\n",
       "  <thead>\n",
       "    <tr style=\"text-align: right;\">\n",
       "      <th></th>\n",
       "      <th>0</th>\n",
       "      <th>1</th>\n",
       "      <th>2</th>\n",
       "      <th>3</th>\n",
       "      <th>4</th>\n",
       "      <th>5</th>\n",
       "      <th>6</th>\n",
       "      <th>7</th>\n",
       "      <th>8</th>\n",
       "      <th>9</th>\n",
       "      <th>...</th>\n",
       "      <th>248</th>\n",
       "      <th>249</th>\n",
       "      <th>250</th>\n",
       "      <th>251</th>\n",
       "      <th>252</th>\n",
       "      <th>vas_id</th>\n",
       "      <th>target</th>\n",
       "      <th>diff_time</th>\n",
       "      <th>buy_month_feat</th>\n",
       "      <th>buy_month</th>\n",
       "    </tr>\n",
       "    <tr>\n",
       "      <th>id</th>\n",
       "      <th></th>\n",
       "      <th></th>\n",
       "      <th></th>\n",
       "      <th></th>\n",
       "      <th></th>\n",
       "      <th></th>\n",
       "      <th></th>\n",
       "      <th></th>\n",
       "      <th></th>\n",
       "      <th></th>\n",
       "      <th></th>\n",
       "      <th></th>\n",
       "      <th></th>\n",
       "      <th></th>\n",
       "      <th></th>\n",
       "      <th></th>\n",
       "      <th></th>\n",
       "      <th></th>\n",
       "      <th></th>\n",
       "      <th></th>\n",
       "      <th></th>\n",
       "    </tr>\n",
       "  </thead>\n",
       "  <tbody>\n",
       "    <tr>\n",
       "      <th>1842348</th>\n",
       "      <td>-1.859971</td>\n",
       "      <td>426.650888</td>\n",
       "      <td>-10.720786</td>\n",
       "      <td>379.123202</td>\n",
       "      <td>-16.138246</td>\n",
       "      <td>358.01821</td>\n",
       "      <td>-16.08618</td>\n",
       "      <td>-65.076097</td>\n",
       "      <td>-6.78366</td>\n",
       "      <td>-30.006538</td>\n",
       "      <td>...</td>\n",
       "      <td>-25.832889</td>\n",
       "      <td>-0.694428</td>\n",
       "      <td>-12.175933</td>\n",
       "      <td>-0.45614</td>\n",
       "      <td>0.0</td>\n",
       "      <td>1.0</td>\n",
       "      <td>0.0</td>\n",
       "      <td>0</td>\n",
       "      <td>9</td>\n",
       "      <td>9</td>\n",
       "    </tr>\n",
       "    <tr>\n",
       "      <th>1138869</th>\n",
       "      <td>32.440029</td>\n",
       "      <td>-36.559112</td>\n",
       "      <td>18.499214</td>\n",
       "      <td>-89.166798</td>\n",
       "      <td>13.081754</td>\n",
       "      <td>-110.27179</td>\n",
       "      <td>-16.08618</td>\n",
       "      <td>-65.076097</td>\n",
       "      <td>-6.78366</td>\n",
       "      <td>-30.006538</td>\n",
       "      <td>...</td>\n",
       "      <td>-25.832889</td>\n",
       "      <td>-0.694428</td>\n",
       "      <td>-12.175933</td>\n",
       "      <td>-0.45614</td>\n",
       "      <td>1.0</td>\n",
       "      <td>5.0</td>\n",
       "      <td>0.0</td>\n",
       "      <td>0</td>\n",
       "      <td>12</td>\n",
       "      <td>12</td>\n",
       "    </tr>\n",
       "    <tr>\n",
       "      <th>4303403</th>\n",
       "      <td>-37.449971</td>\n",
       "      <td>515.950888</td>\n",
       "      <td>-47.150786</td>\n",
       "      <td>471.823202</td>\n",
       "      <td>-52.568246</td>\n",
       "      <td>450.71821</td>\n",
       "      <td>-10.15618</td>\n",
       "      <td>-53.216097</td>\n",
       "      <td>-6.77346</td>\n",
       "      <td>-28.947395</td>\n",
       "      <td>...</td>\n",
       "      <td>-22.832889</td>\n",
       "      <td>-0.694428</td>\n",
       "      <td>-12.175933</td>\n",
       "      <td>1.54386</td>\n",
       "      <td>1.0</td>\n",
       "      <td>2.0</td>\n",
       "      <td>0.0</td>\n",
       "      <td>0</td>\n",
       "      <td>12</td>\n",
       "      <td>12</td>\n",
       "    </tr>\n",
       "    <tr>\n",
       "      <th>3478306</th>\n",
       "      <td>-30.789971</td>\n",
       "      <td>-139.999112</td>\n",
       "      <td>-35.410786</td>\n",
       "      <td>-172.266798</td>\n",
       "      <td>-40.828246</td>\n",
       "      <td>-193.37179</td>\n",
       "      <td>-16.08618</td>\n",
       "      <td>-65.076097</td>\n",
       "      <td>-6.78366</td>\n",
       "      <td>-30.006538</td>\n",
       "      <td>...</td>\n",
       "      <td>-24.832889</td>\n",
       "      <td>-0.694428</td>\n",
       "      <td>-12.175933</td>\n",
       "      <td>-0.45614</td>\n",
       "      <td>0.0</td>\n",
       "      <td>5.0</td>\n",
       "      <td>0.0</td>\n",
       "      <td>0</td>\n",
       "      <td>12</td>\n",
       "      <td>12</td>\n",
       "    </tr>\n",
       "    <tr>\n",
       "      <th>2953274</th>\n",
       "      <td>-96.799971</td>\n",
       "      <td>-26.819112</td>\n",
       "      <td>-110.740786</td>\n",
       "      <td>-78.156798</td>\n",
       "      <td>-116.158246</td>\n",
       "      <td>-99.26179</td>\n",
       "      <td>-16.08618</td>\n",
       "      <td>-65.076097</td>\n",
       "      <td>-6.78366</td>\n",
       "      <td>-30.006538</td>\n",
       "      <td>...</td>\n",
       "      <td>-24.832889</td>\n",
       "      <td>-0.694428</td>\n",
       "      <td>-11.175933</td>\n",
       "      <td>-0.45614</td>\n",
       "      <td>0.0</td>\n",
       "      <td>8.0</td>\n",
       "      <td>0.0</td>\n",
       "      <td>0</td>\n",
       "      <td>7</td>\n",
       "      <td>7</td>\n",
       "    </tr>\n",
       "  </tbody>\n",
       "</table>\n",
       "<p>5 rows × 258 columns</p>\n",
       "</div>"
      ],
      "text/plain": [
       "                 0           1           2           3           4          5  \\\n",
       "id                                                                              \n",
       "1842348  -1.859971  426.650888  -10.720786  379.123202  -16.138246  358.01821   \n",
       "1138869  32.440029  -36.559112   18.499214  -89.166798   13.081754 -110.27179   \n",
       "4303403 -37.449971  515.950888  -47.150786  471.823202  -52.568246  450.71821   \n",
       "3478306 -30.789971 -139.999112  -35.410786 -172.266798  -40.828246 -193.37179   \n",
       "2953274 -96.799971  -26.819112 -110.740786  -78.156798 -116.158246  -99.26179   \n",
       "\n",
       "                6          7        8          9  ...        248       249  \\\n",
       "id                                                ...                        \n",
       "1842348 -16.08618 -65.076097 -6.78366 -30.006538  ... -25.832889 -0.694428   \n",
       "1138869 -16.08618 -65.076097 -6.78366 -30.006538  ... -25.832889 -0.694428   \n",
       "4303403 -10.15618 -53.216097 -6.77346 -28.947395  ... -22.832889 -0.694428   \n",
       "3478306 -16.08618 -65.076097 -6.78366 -30.006538  ... -24.832889 -0.694428   \n",
       "2953274 -16.08618 -65.076097 -6.78366 -30.006538  ... -24.832889 -0.694428   \n",
       "\n",
       "               250      251  252  vas_id  target  diff_time  buy_month_feat  \\\n",
       "id                                                                            \n",
       "1842348 -12.175933 -0.45614  0.0     1.0     0.0          0               9   \n",
       "1138869 -12.175933 -0.45614  1.0     5.0     0.0          0              12   \n",
       "4303403 -12.175933  1.54386  1.0     2.0     0.0          0              12   \n",
       "3478306 -12.175933 -0.45614  0.0     5.0     0.0          0              12   \n",
       "2953274 -11.175933 -0.45614  0.0     8.0     0.0          0               7   \n",
       "\n",
       "         buy_month  \n",
       "id                  \n",
       "1842348          9  \n",
       "1138869         12  \n",
       "4303403         12  \n",
       "3478306         12  \n",
       "2953274          7  \n",
       "\n",
       "[5 rows x 258 columns]"
      ]
     },
     "execution_count": 3,
     "metadata": {},
     "output_type": "execute_result"
    }
   ],
   "source": [
    "df.head()"
   ]
  },
  {
   "cell_type": "markdown",
   "id": "1ea06a11",
   "metadata": {},
   "source": [
    "### 1.1 Загрузка датасетов"
   ]
  },
  {
   "cell_type": "code",
   "execution_count": 2,
   "id": "13a2e0a3",
   "metadata": {},
   "outputs": [],
   "source": [
    "train = pd.read_csv('data_train.csv', index_col='Unnamed: 0')\n",
    "test = pd.read_csv('data_test.csv', index_col='Unnamed: 0')"
   ]
  },
  {
   "cell_type": "markdown",
   "id": "bd74a60e",
   "metadata": {},
   "source": [
    "#### Проверка совпадения id пользователей в тестовой и обучающей выборках"
   ]
  },
  {
   "cell_type": "code",
   "execution_count": 3,
   "id": "53a7d0ef",
   "metadata": {},
   "outputs": [
    {
     "data": {
      "text/plain": [
       "71231"
      ]
     },
     "execution_count": 3,
     "metadata": {},
     "output_type": "execute_result"
    }
   ],
   "source": [
    "test.id.shape[0]"
   ]
  },
  {
   "cell_type": "code",
   "execution_count": 4,
   "id": "83e28845",
   "metadata": {},
   "outputs": [
    {
     "data": {
      "text/plain": [
       "4218"
      ]
     },
     "execution_count": 4,
     "metadata": {},
     "output_type": "execute_result"
    }
   ],
   "source": [
    "test.loc[test['id'].isin(train.id.unique()), 'id'].shape[0]"
   ]
  },
  {
   "cell_type": "markdown",
   "id": "aff85f80",
   "metadata": {},
   "source": [
    "Из этого следует, что в тестовой выборке много новых пользователей."
   ]
  },
  {
   "cell_type": "markdown",
   "id": "e97ff1da",
   "metadata": {},
   "source": [
    "##### Выгрузка необходимых данных из features.csv"
   ]
  },
  {
   "cell_type": "code",
   "execution_count": 5,
   "id": "5628ae9e",
   "metadata": {},
   "outputs": [
    {
     "data": {
      "text/html": [
       "<div>\n",
       "<style scoped>\n",
       "    .dataframe tbody tr th:only-of-type {\n",
       "        vertical-align: middle;\n",
       "    }\n",
       "\n",
       "    .dataframe tbody tr th {\n",
       "        vertical-align: top;\n",
       "    }\n",
       "\n",
       "    .dataframe thead th {\n",
       "        text-align: right;\n",
       "    }\n",
       "</style>\n",
       "<table border=\"1\" class=\"dataframe\">\n",
       "  <thead>\n",
       "    <tr style=\"text-align: right;\">\n",
       "      <th></th>\n",
       "      <th>id</th>\n",
       "      <th>buy_time</th>\n",
       "      <th>0</th>\n",
       "      <th>1</th>\n",
       "      <th>2</th>\n",
       "      <th>3</th>\n",
       "      <th>4</th>\n",
       "      <th>5</th>\n",
       "      <th>6</th>\n",
       "      <th>7</th>\n",
       "      <th>...</th>\n",
       "      <th>243</th>\n",
       "      <th>244</th>\n",
       "      <th>245</th>\n",
       "      <th>246</th>\n",
       "      <th>247</th>\n",
       "      <th>248</th>\n",
       "      <th>249</th>\n",
       "      <th>250</th>\n",
       "      <th>251</th>\n",
       "      <th>252</th>\n",
       "    </tr>\n",
       "  </thead>\n",
       "  <tbody>\n",
       "    <tr>\n",
       "      <th>0</th>\n",
       "      <td>2013026</td>\n",
       "      <td>1531688400</td>\n",
       "      <td>18.910029</td>\n",
       "      <td>46.980888</td>\n",
       "      <td>4.969214</td>\n",
       "      <td>-1.386798</td>\n",
       "      <td>3.791754</td>\n",
       "      <td>-14.01179</td>\n",
       "      <td>-16.08618</td>\n",
       "      <td>-65.076097</td>\n",
       "      <td>...</td>\n",
       "      <td>-977.373846</td>\n",
       "      <td>-613.770792</td>\n",
       "      <td>-25.996269</td>\n",
       "      <td>-37.630448</td>\n",
       "      <td>-301.747724</td>\n",
       "      <td>-25.832889</td>\n",
       "      <td>-0.694428</td>\n",
       "      <td>-12.175933</td>\n",
       "      <td>-0.45614</td>\n",
       "      <td>0.0</td>\n",
       "    </tr>\n",
       "  </tbody>\n",
       "</table>\n",
       "<p>1 rows × 255 columns</p>\n",
       "</div>"
      ],
      "text/plain": [
       "        id    buy_time          0          1         2         3         4  \\\n",
       "0  2013026  1531688400  18.910029  46.980888  4.969214 -1.386798  3.791754   \n",
       "\n",
       "          5         6          7  ...         243         244        245  \\\n",
       "0 -14.01179 -16.08618 -65.076097  ... -977.373846 -613.770792 -25.996269   \n",
       "\n",
       "         246         247        248       249        250      251  252  \n",
       "0 -37.630448 -301.747724 -25.832889 -0.694428 -12.175933 -0.45614  0.0  \n",
       "\n",
       "[1 rows x 255 columns]"
      ]
     },
     "execution_count": 5,
     "metadata": {},
     "output_type": "execute_result"
    }
   ],
   "source": [
    "# dask\n",
    "feats = dataframe.read_csv('features.csv/features.csv', sep='\\t')\n",
    "\n",
    "# удаление колонки индекса\n",
    "feats = feats.drop(columns='Unnamed: 0')\n",
    "feats.head(1)"
   ]
  },
  {
   "cell_type": "code",
   "execution_count": 6,
   "id": "ec3763a1",
   "metadata": {},
   "outputs": [],
   "source": [
    "# преобразуем время в дату\n",
    "train['buy_time'] = train.buy_time.apply(lambda x: datetime.fromtimestamp(x))\n",
    "test['buy_time'] = test.buy_time.apply(lambda x: datetime.fromtimestamp(x))\n",
    "feats['buy_time'] = feats.buy_time.apply(lambda x: datetime.fromtimestamp(x))"
   ]
  },
  {
   "cell_type": "code",
   "execution_count": 7,
   "id": "a33b142a",
   "metadata": {},
   "outputs": [
    {
     "name": "stdout",
     "output_type": "stream",
     "text": [
      "CPU times: total: 10min 26s\n",
      "Wall time: 3min 3s\n"
     ]
    }
   ],
   "source": [
    "%%time\n",
    "data = feats.merge(train, on='id').compute()"
   ]
  },
  {
   "cell_type": "code",
   "execution_count": 61,
   "id": "44f5e0f5",
   "metadata": {},
   "outputs": [],
   "source": [
    "df = data.copy()"
   ]
  },
  {
   "cell_type": "code",
   "execution_count": 62,
   "id": "7c3872e5",
   "metadata": {},
   "outputs": [
    {
     "name": "stdout",
     "output_type": "stream",
     "text": [
      "Количество совпадений id и даты покупки с базой данных 38919\n",
      "Общее количество покупок в тренировочных данных 860052\n"
     ]
    }
   ],
   "source": [
    "print(f'Количество совпадений id и даты покупки с базой данных {df.loc[df[\"buy_time_x\"] == df[\"buy_time_y\"]].shape[0]}')\n",
    "print(f'Общее количество покупок в тренировочных данных {df.shape[0]}')"
   ]
  },
  {
   "cell_type": "markdown",
   "id": "c09c0bf8",
   "metadata": {},
   "source": [
    "Так как совпадений по идентификаторам клиента и времени покупки немного, то берем ближайшую покупку клиента в зависимости от минимализации разницы между реальным временем покупки и временем покупки из базы данных с признаками"
   ]
  },
  {
   "cell_type": "code",
   "execution_count": 63,
   "id": "d0e16627",
   "metadata": {},
   "outputs": [],
   "source": [
    "df['diff_time'] = -np.abs(df['buy_time_x'] - df['buy_time_y']) # разница времени покупки в трейне и features.csv\n",
    "df['diff_time'] = df.diff_time.apply(lambda x: x.days) # преобразование разницы времени в числовое значение\n",
    "df.sort_values('diff_time', ascending=False, inplace=True) # сортировка по разнице времени данных\n",
    "df.drop_duplicates(['id', 'buy_time_y', 'vas_id'], inplace=True) # удаление дубликатов, больших по разнице во времени"
   ]
  },
  {
   "cell_type": "code",
   "execution_count": 64,
   "id": "d996c99e",
   "metadata": {},
   "outputs": [],
   "source": [
    "# вытаскиваем месяц покупки из даты\n",
    "\n",
    "df['buy_month_feat'] = df.buy_time_x.apply(lambda x: x.month) # месяц покупки из базы данных с признаками\n",
    "df['buy_month'] = df.buy_time_y.apply(lambda x: x.month) # месяц покупки из выборки\n",
    "\n",
    "# берем день месяца из покупки и даты\n",
    "\n",
    "df['buy_day_feat'] = df.buy_time_x.apply(lambda x: x.day) # день покупки из базы данных с признаками\n",
    "df['buy_day'] = df.buy_time_y.apply(lambda x: x.day) # день покупки из выборки\n",
    "\n",
    "\n",
    "# преобразование в категориальный признак\n",
    "df.loc[df['252'] > 1, '252'] = 2"
   ]
  },
  {
   "cell_type": "code",
   "execution_count": 65,
   "id": "0468f7f4",
   "metadata": {},
   "outputs": [
    {
     "name": "stdout",
     "output_type": "stream",
     "text": [
      "Количество пропусков в тренировочных данных: 0\n",
      "Количество пропусков в тестовых данных: 0\n"
     ]
    }
   ],
   "source": [
    "print(f'Количество пропусков в тренировочных данных: {df.isna().sum().sum()}')\n",
    "print(f'Количество пропусков в тестовых данных: {test.isna().sum().sum()}')"
   ]
  },
  {
   "cell_type": "markdown",
   "id": "211bba76",
   "metadata": {},
   "source": [
    "#### Распределение целевой переменной по времени"
   ]
  },
  {
   "cell_type": "code",
   "execution_count": 66,
   "id": "5c2750b8",
   "metadata": {},
   "outputs": [
    {
     "data": {
      "image/png": "[encoded data removed]",
      "text/plain": [
       "<Figure size 2000x1000 with 1 Axes>"
      ]
     },
     "metadata": {},
     "output_type": "display_data"
    }
   ],
   "source": [
    "plt.figure(figsize=(20, 10))\n",
    "sns.histplot(data=df, x='buy_time_y', hue='target')\n",
    "plt.show()"
   ]
  },
  {
   "cell_type": "markdown",
   "id": "6a867903",
   "metadata": {},
   "source": [
    "Из графика наблюдается аномальное поведение в одном из дней ноября, а также увеличение покупок пользователей начиная с середины декабря месяца, что скорее всего связано с появлением новой услуги и повышенным предложением самого оператора."
   ]
  },
  {
   "cell_type": "markdown",
   "id": "e152641f",
   "metadata": {},
   "source": [
    "Рассмотрим отдельно последние два месяца."
   ]
  },
  {
   "cell_type": "code",
   "execution_count": 67,
   "id": "c356b013",
   "metadata": {},
   "outputs": [
    {
     "data": {
      "image/png": "[encoded data removed]",
      "text/plain": [
       "<Figure size 1000x600 with 1 Axes>"
      ]
     },
     "metadata": {},
     "output_type": "display_data"
    }
   ],
   "source": [
    "plt.figure(figsize=(10, 6))\n",
    "sns.histplot(data=df.loc[df.buy_month.isin([11, 12])], x='buy_time_y', hue='target')\n",
    "plt.xticks(df.loc[df.buy_month.isin([11, 12]), 'buy_time_y'].unique())\n",
    "plt.show()"
   ]
  },
  {
   "cell_type": "markdown",
   "id": "ce87fecf",
   "metadata": {},
   "source": [
    "Необходимо исключить из выборки все данные, полученные 19-11-2018, а за тестовую выборку возьмем декабрь."
   ]
  },
  {
   "cell_type": "code",
   "execution_count": 68,
   "id": "cc7c004b",
   "metadata": {},
   "outputs": [],
   "source": [
    "df = df.loc[~((df['buy_month']==11) & (df['buy_day']==19))]"
   ]
  },
  {
   "cell_type": "markdown",
   "id": "a44893bc",
   "metadata": {},
   "source": [
    "### 1.2 Разбиение тренировочных данных"
   ]
  },
  {
   "cell_type": "code",
   "execution_count": 69,
   "id": "56e2bb9d",
   "metadata": {},
   "outputs": [],
   "source": [
    "# Разделим признаки и целевую переменную\n",
    "data_prelim = df.copy()\n",
    "\n",
    "data_prelim.set_index('id', inplace=True)"
   ]
  },
  {
   "cell_type": "markdown",
   "id": "33cb0f2a",
   "metadata": {},
   "source": [
    "- Разбиваем данные по месяцам, чтобы найти закономерность именно на временном промежутке.\n",
    "- Берем последний месяц - 12 за тестовую выборку, чтобы понять дальнейшие действия потребителей."
   ]
  },
  {
   "cell_type": "code",
   "execution_count": 70,
   "id": "0dfe360c",
   "metadata": {},
   "outputs": [],
   "source": [
    "seed = 77\n",
    "\n",
    "data_prelim_test = data_prelim.loc[data_prelim.buy_month.isin([12])]\n",
    "data_prelim_train = data_prelim.loc[data_prelim.buy_month <= 11]\n",
    "\n",
    "\n",
    " # удаляем данные о реальной покупке, так как в тестовых данных будет присутствовать другой месяц\n",
    "\n",
    "\n",
    "data_prelim.drop(['buy_month'], axis=1, inplace=True)\n",
    "data_prelim_test.drop(['buy_month'], axis=1, inplace=True)\n",
    "data_prelim_train.drop(['buy_month'], axis=1, inplace=True)\n",
    "    \n",
    "# data_prelim.drop(['buy_month', 'buy_day', 'buy_time_y', 'buy_time_x'], axis=1, inplace=True)\n",
    "# data_prelim_test.drop(['buy_month', 'buy_day', 'buy_time_y', 'buy_time_x'], axis=1, inplace=True)\n",
    "# data_prelim_train.drop(['buy_month', 'buy_day', 'buy_time_y', 'buy_time_x'], axis=1, inplace=True)"
   ]
  },
  {
   "cell_type": "code",
   "execution_count": 71,
   "id": "b9c67286",
   "metadata": {},
   "outputs": [],
   "source": [
    "X = data_prelim.drop('target', axis=1)\n",
    "y = data_prelim['target']\n",
    "\n",
    "X_train, y_train = data_prelim_train.drop('target', axis=1), data_prelim_train['target']\n",
    "X_test, y_test = data_prelim_test.drop('target', axis=1), data_prelim_test['target']"
   ]
  },
  {
   "cell_type": "code",
   "execution_count": 72,
   "id": "f2c29587",
   "metadata": {
    "scrolled": true
   },
   "outputs": [
    {
     "name": "stdout",
     "output_type": "stream",
     "text": [
      "Train\n",
      "0.0    0.959787\n",
      "1.0    0.040213\n",
      "Name: target, dtype: float64\n",
      "\n",
      "Test\n",
      "0.0    0.910324\n",
      "1.0    0.089676\n",
      "Name: target, dtype: float64\n"
     ]
    }
   ],
   "source": [
    "print(\"Train\")\n",
    "print(y_train.value_counts() / y_train.shape[0])\n",
    "print()\n",
    "print(\"Test\")\n",
    "print(y_test.value_counts() / y_test.shape[0])"
   ]
  },
  {
   "cell_type": "markdown",
   "id": "cf9de8b5",
   "metadata": {},
   "source": [
    "### 1.3 Pipeline для baseline модели"
   ]
  },
  {
   "cell_type": "code",
   "execution_count": 73,
   "id": "d7cec03c",
   "metadata": {},
   "outputs": [],
   "source": [
    "# LogisticRegression\n",
    "# возьмем параметр логистической регрессии 'balanced', для смещения диспбаланса в результатах\n",
    "\n",
    "step_log_reg = ('log_reg', LogisticRegression(random_state=seed, n_jobs=-1, class_weight='balanced'))"
   ]
  },
  {
   "cell_type": "code",
   "execution_count": 74,
   "id": "df390906",
   "metadata": {},
   "outputs": [],
   "source": [
    "bl_estimator = Pipeline([\n",
    "    step_log_reg\n",
    "])"
   ]
  },
  {
   "cell_type": "markdown",
   "id": "68380d36",
   "metadata": {},
   "source": [
    "### 1.4 Кросс-валидация"
   ]
  },
  {
   "cell_type": "code",
   "execution_count": 75,
   "id": "f7f38359",
   "metadata": {},
   "outputs": [],
   "source": [
    "cv = KFold(n_splits=3, shuffle=True, random_state=seed)\n",
    "\n",
    "def run_cv(estimator, cv, X, y, scoring='roc_auc', model_name=\"\"):\n",
    "    cv_res = cross_validate(estimator, X, y, cv=cv, scoring=scoring, n_jobs=-1)\n",
    "    \n",
    "    print(\"%s: %s = %0.2f (+/- %0.3f)\" % (model_name,\n",
    "                                         scoring,\n",
    "                                         cv_res['test_score'].mean(),\n",
    "                                         cv_res['test_score'].std() * 2))"
   ]
  },
  {
   "cell_type": "code",
   "execution_count": 77,
   "id": "3f89a35f",
   "metadata": {},
   "outputs": [
    {
     "name": "stdout",
     "output_type": "stream",
     "text": [
      "BaseLine: roc_auc = 0.51 (+/- 0.001)\n",
      "CPU times: total: 2.02 s\n",
      "Wall time: 51.2 s\n"
     ]
    }
   ],
   "source": [
    "%time run_cv(bl_estimator, cv, X_train, y_train, model_name='BaseLine')"
   ]
  },
  {
   "cell_type": "code",
   "execution_count": 78,
   "id": "07767e1e",
   "metadata": {},
   "outputs": [],
   "source": [
    "bl_estimator.fit(X_train, y_train)\n",
    "bl_train_pred = bl_estimator.predict_proba(X_train)[:, 1]\n",
    "bl_y_pred = bl_estimator.predict_proba(X_test)[:, 1]"
   ]
  },
  {
   "cell_type": "code",
   "execution_count": 79,
   "id": "05a8f56a",
   "metadata": {},
   "outputs": [
    {
     "data": {
      "image/png": "[encoded data removed]",
      "text/plain": [
       "<Figure size 640x480 with 1 Axes>"
      ]
     },
     "metadata": {},
     "output_type": "display_data"
    }
   ],
   "source": [
    "plt.title(\"Baseline: распределение предсказаний модели\")\n",
    "plt.hist(bl_y_pred[~y_test.astype(bool)], bins=1000, color='r', alpha=0.7);\n",
    "plt.hist(bl_y_pred[y_test.astype(bool)], bins=1000, color='b', alpha=0.7);"
   ]
  },
  {
   "cell_type": "code",
   "execution_count": 80,
   "id": "79bae3d1",
   "metadata": {},
   "outputs": [
    {
     "name": "stdout",
     "output_type": "stream",
     "text": [
      "              precision    recall  f1-score   support\n",
      "\n",
      "         0.0       0.96      0.65      0.78    538592\n",
      "         1.0       0.04      0.36      0.08     22566\n",
      "\n",
      "    accuracy                           0.64    561158\n",
      "   macro avg       0.50      0.51      0.43    561158\n",
      "weighted avg       0.92      0.64      0.75    561158\n",
      "\n",
      "              precision    recall  f1-score   support\n",
      "\n",
      "         0.0       0.91      0.65      0.76    225378\n",
      "         1.0       0.09      0.35      0.15     22202\n",
      "\n",
      "    accuracy                           0.63    247580\n",
      "   macro avg       0.50      0.50      0.45    247580\n",
      "weighted avg       0.84      0.63      0.71    247580\n",
      "\n"
     ]
    }
   ],
   "source": [
    "print(classification_report(y_train, bl_train_pred > 0.5))\n",
    "print(classification_report(y_test, bl_y_pred > 0.5))"
   ]
  },
  {
   "cell_type": "markdown",
   "id": "eaea0adf",
   "metadata": {},
   "source": [
    "Результат baseline очень плохой, так как для логистической регрессии необходимо было выполнить нормализацию признаков"
   ]
  },
  {
   "cell_type": "markdown",
   "id": "42dc64f6",
   "metadata": {},
   "source": [
    "### 2 Типы признаков"
   ]
  },
  {
   "cell_type": "code",
   "execution_count": 81,
   "id": "412d0f6e",
   "metadata": {},
   "outputs": [
    {
     "data": {
      "text/plain": [
       "(257,)"
      ]
     },
     "execution_count": 81,
     "metadata": {},
     "output_type": "execute_result"
    }
   ],
   "source": [
    "X_nunique = X.apply(lambda x: x.nunique())\n",
    "X_nunique.shape"
   ]
  },
  {
   "cell_type": "code",
   "execution_count": 82,
   "id": "f0d2e00d",
   "metadata": {},
   "outputs": [
    {
     "data": {
      "image/png": "[encoded data removed]",
      "text/plain": [
       "<Figure size 1000x500 with 1 Axes>"
      ]
     },
     "metadata": {},
     "output_type": "display_data"
    }
   ],
   "source": [
    "plt.title(\"Распределение уникальных значений признаков\");\n",
    "X_nunique.hist(bins=100, figsize=(10, 5));"
   ]
  },
  {
   "cell_type": "code",
   "execution_count": 83,
   "id": "5afa6134",
   "metadata": {},
   "outputs": [
    {
     "data": {
      "text/plain": [
       "257"
      ]
     },
     "execution_count": 83,
     "metadata": {},
     "output_type": "execute_result"
    }
   ],
   "source": [
    "f_all = set(X_nunique.index.tolist())\n",
    "len(f_all)"
   ]
  },
  {
   "cell_type": "markdown",
   "id": "d41ced6d",
   "metadata": {},
   "source": [
    "#### константные признаки"
   ]
  },
  {
   "cell_type": "code",
   "execution_count": 84,
   "id": "7af127aa",
   "metadata": {},
   "outputs": [
    {
     "data": {
      "text/plain": [
       "5"
      ]
     },
     "execution_count": 84,
     "metadata": {},
     "output_type": "execute_result"
    }
   ],
   "source": [
    "# константные признаки\n",
    "f_const = set(X_nunique[X_nunique == 1].index.tolist())\n",
    "len(f_const)"
   ]
  },
  {
   "cell_type": "markdown",
   "id": "ec306739",
   "metadata": {},
   "source": [
    "#### вещественные признаки"
   ]
  },
  {
   "cell_type": "code",
   "execution_count": 85,
   "id": "59b71f77",
   "metadata": {},
   "outputs": [
    {
     "data": {
      "text/plain": [
       "247"
      ]
     },
     "execution_count": 85,
     "metadata": {},
     "output_type": "execute_result"
    }
   ],
   "source": [
    "f_numeric = (X.fillna(0).astype(int).sum() - X.fillna(0).sum()).abs()\n",
    "f_numeric = set(f_numeric[f_numeric > 0].index.tolist())\n",
    "len(f_numeric)"
   ]
  },
  {
   "cell_type": "code",
   "execution_count": 86,
   "id": "c4375233",
   "metadata": {},
   "outputs": [
    {
     "data": {
      "text/plain": [
       "5"
      ]
     },
     "execution_count": 86,
     "metadata": {},
     "output_type": "execute_result"
    }
   ],
   "source": [
    "f_other = f_all - (f_numeric | f_const) # остальные признаки\n",
    "len(f_other)"
   ]
  },
  {
   "cell_type": "markdown",
   "id": "25420787",
   "metadata": {},
   "source": [
    "#### бинарные признаки"
   ]
  },
  {
   "cell_type": "code",
   "execution_count": 87,
   "id": "6d470812",
   "metadata": {},
   "outputs": [
    {
     "data": {
      "text/plain": [
       "0"
      ]
     },
     "execution_count": 87,
     "metadata": {},
     "output_type": "execute_result"
    }
   ],
   "source": [
    "f_binary = set(X.loc[:, f_other].columns[(\n",
    "                      (X.loc[:, f_other].max() == 1) & \\\n",
    "                      (X.loc[:, f_other].min() == 0) & \\\n",
    "                      (X.loc[:, f_other].isnull().sum() == 0))])\n",
    "len(f_binary)"
   ]
  },
  {
   "cell_type": "markdown",
   "id": "21b7b422",
   "metadata": {},
   "source": [
    "#### категориальные признаки"
   ]
  },
  {
   "cell_type": "code",
   "execution_count": 88,
   "id": "3ebf45c2",
   "metadata": {},
   "outputs": [
    {
     "data": {
      "text/plain": [
       "5"
      ]
     },
     "execution_count": 88,
     "metadata": {},
     "output_type": "execute_result"
    }
   ],
   "source": [
    "f_other = f_other - f_binary\n",
    "len(f_other)"
   ]
  },
  {
   "cell_type": "code",
   "execution_count": 89,
   "id": "a844a630",
   "metadata": {},
   "outputs": [
    {
     "data": {
      "text/plain": [
       "3"
      ]
     },
     "execution_count": 89,
     "metadata": {},
     "output_type": "execute_result"
    }
   ],
   "source": [
    "f_categorical = set(X_nunique.loc[f_other][X_nunique.loc[f_other] <= 10].index.tolist())\n",
    "f_numeric_extra = f_categorical\n",
    "len(f_categorical)"
   ]
  },
  {
   "cell_type": "code",
   "execution_count": 90,
   "id": "2a672825",
   "metadata": {},
   "outputs": [
    {
     "data": {
      "text/plain": [
       "2"
      ]
     },
     "execution_count": 90,
     "metadata": {},
     "output_type": "execute_result"
    }
   ],
   "source": [
    "f_other = f_other - f_categorical\n",
    "len(f_other)"
   ]
  },
  {
   "cell_type": "code",
   "execution_count": 91,
   "id": "4383f83e",
   "metadata": {},
   "outputs": [
    {
     "data": {
      "text/plain": [
       "{'buy_day_feat', 'diff_time'}"
      ]
     },
     "execution_count": 91,
     "metadata": {},
     "output_type": "execute_result"
    }
   ],
   "source": [
    "f_other"
   ]
  },
  {
   "cell_type": "code",
   "execution_count": 92,
   "id": "888886de",
   "metadata": {},
   "outputs": [],
   "source": [
    "f_numeric.update(f_other)"
   ]
  },
  {
   "cell_type": "code",
   "execution_count": 93,
   "id": "934ae2a5",
   "metadata": {},
   "outputs": [],
   "source": [
    "assert(X_nunique.shape[0] == len(f_const) + len(f_binary) + len(f_numeric) + len(f_categorical))"
   ]
  },
  {
   "cell_type": "code",
   "execution_count": 94,
   "id": "c3969f5e",
   "metadata": {},
   "outputs": [
    {
     "name": "stdout",
     "output_type": "stream",
     "text": [
      "f_all: 257\n",
      "\n",
      "f_const: 5\n",
      "f_binary: 0\n",
      "f_categorical: 3\n",
      "f_numeric: 249\n"
     ]
    }
   ],
   "source": [
    "print('f_all:', X.shape[1])\n",
    "print()\n",
    "print('f_const:', len(f_const))\n",
    "print('f_binary:', len(f_binary))\n",
    "print('f_categorical:', len(f_categorical))\n",
    "print('f_numeric:', len(f_numeric))\n",
    "\n",
    "f_ok = list(f_binary | f_categorical | f_numeric)\n",
    "f_binary, f_categorical, f_numeric = list(f_binary), list(f_categorical), list(f_numeric)"
   ]
  },
  {
   "cell_type": "markdown",
   "id": "7c1f795e",
   "metadata": {},
   "source": [
    "### 3. Pipeline"
   ]
  },
  {
   "cell_type": "code",
   "execution_count": 95,
   "id": "8e6441ea",
   "metadata": {},
   "outputs": [],
   "source": [
    "from sklearn.base import BaseEstimator, TransformerMixin"
   ]
  },
  {
   "cell_type": "markdown",
   "id": "a919f023",
   "metadata": {},
   "source": [
    "#### Column Selector"
   ]
  },
  {
   "cell_type": "code",
   "execution_count": 96,
   "id": "ccbccb16",
   "metadata": {},
   "outputs": [],
   "source": [
    "class ColumnSelector(BaseEstimator, TransformerMixin):\n",
    "    def __init__(self, columns):\n",
    "        self.columns = columns\n",
    "        \n",
    "    def fit(self, X, y=None):\n",
    "        return self\n",
    "    \n",
    "    def transform(self, X):\n",
    "        assert isinstance(X, pd.DataFrame)\n",
    "        \n",
    "        try:\n",
    "            return X[self.columns]\n",
    "        except KeyError:\n",
    "            cols_error = list(set(self.columns) - set(X.columns))\n",
    "            print(KeyError(\"DataFrame не содержит колонки %s\" % cols_error))"
   ]
  },
  {
   "cell_type": "code",
   "execution_count": 97,
   "id": "73d75f31",
   "metadata": {},
   "outputs": [],
   "source": [
    "# проверка работы\n",
    "cs_pipe = Pipeline([\n",
    "    ('cs', ColumnSelector(columns=['1', '2', '15', '252'])),\n",
    "])"
   ]
  },
  {
   "cell_type": "code",
   "execution_count": 98,
   "id": "e438e37c",
   "metadata": {},
   "outputs": [
    {
     "data": {
      "text/html": [
       "<div>\n",
       "<style scoped>\n",
       "    .dataframe tbody tr th:only-of-type {\n",
       "        vertical-align: middle;\n",
       "    }\n",
       "\n",
       "    .dataframe tbody tr th {\n",
       "        vertical-align: top;\n",
       "    }\n",
       "\n",
       "    .dataframe thead th {\n",
       "        text-align: right;\n",
       "    }\n",
       "</style>\n",
       "<table border=\"1\" class=\"dataframe\">\n",
       "  <thead>\n",
       "    <tr style=\"text-align: right;\">\n",
       "      <th></th>\n",
       "      <th>1</th>\n",
       "      <th>2</th>\n",
       "      <th>15</th>\n",
       "      <th>252</th>\n",
       "    </tr>\n",
       "    <tr>\n",
       "      <th>id</th>\n",
       "      <th></th>\n",
       "      <th></th>\n",
       "      <th></th>\n",
       "      <th></th>\n",
       "    </tr>\n",
       "  </thead>\n",
       "  <tbody>\n",
       "    <tr>\n",
       "      <th>1138869</th>\n",
       "      <td>-36.559112</td>\n",
       "      <td>18.499214</td>\n",
       "      <td>-0.000725</td>\n",
       "      <td>1.0</td>\n",
       "    </tr>\n",
       "    <tr>\n",
       "      <th>4303403</th>\n",
       "      <td>515.950888</td>\n",
       "      <td>-47.150786</td>\n",
       "      <td>-0.000725</td>\n",
       "      <td>1.0</td>\n",
       "    </tr>\n",
       "  </tbody>\n",
       "</table>\n",
       "</div>"
      ],
      "text/plain": [
       "                  1          2        15  252\n",
       "id                                           \n",
       "1138869  -36.559112  18.499214 -0.000725  1.0\n",
       "4303403  515.950888 -47.150786 -0.000725  1.0"
      ]
     },
     "execution_count": 98,
     "metadata": {},
     "output_type": "execute_result"
    }
   ],
   "source": [
    "cs_pipe.transform(X_test).head(2)"
   ]
  },
  {
   "cell_type": "markdown",
   "id": "4ab56477",
   "metadata": {},
   "source": [
    "#### Prepare features"
   ]
  },
  {
   "cell_type": "code",
   "execution_count": 99,
   "id": "90c34f7b",
   "metadata": {},
   "outputs": [],
   "source": [
    "# выполняем стандартизацию для численных значений колонок\n",
    "# для категориальных признаков выполняем OneHotEncoding\n",
    "\n",
    "feat_prep_pipeline = make_pipeline(\n",
    "    ColumnSelector(f_ok),\n",
    "    FeatureUnion(transformer_list=[\n",
    "        ('num_features', make_pipeline(\n",
    "            ColumnSelector(f_numeric),\n",
    "            StandardScaler()\n",
    "        )),\n",
    "        ('bin_features', make_pipeline(\n",
    "            ColumnSelector(f_binary),\n",
    "        )),\n",
    "        ('cat_features', make_pipeline(\n",
    "            ColumnSelector(f_categorical),\n",
    "            OneHotEncoder(handle_unknown='ignore')\n",
    "        ))\n",
    "    ])\n",
    ")"
   ]
  },
  {
   "cell_type": "code",
   "execution_count": 100,
   "id": "a93e4cb4",
   "metadata": {},
   "outputs": [
    {
     "data": {
      "text/plain": [
       "[('columnselector',\n",
       "  ColumnSelector(columns=['buy_month_feat', '116', '36', '58', '241', '50', '78',\n",
       "                          '246', '17', '174', 'diff_time', '196', '234', '163',\n",
       "                          '164', '15', '112', '9', '5', '16', '145', '135', '201',\n",
       "                          '187', '166', '172', '244', '40', '89', '185', ...])),\n",
       " ('featureunion',\n",
       "  FeatureUnion(transformer_list=[('num_features',\n",
       "                                  Pipeline(steps=[('columnselector',\n",
       "                                                   ColumnSelector(columns=['116',\n",
       "                                                                           '36',\n",
       "                                                                           '58',\n",
       "                                                                           '241',\n",
       "                                                                           '50',\n",
       "                                                                           '78',\n",
       "                                                                           '246',\n",
       "                                                                           '17',\n",
       "                                                                           '174',\n",
       "                                                                           'diff_time',\n",
       "                                                                           '196',\n",
       "                                                                           '234',\n",
       "                                                                           '163',\n",
       "                                                                           '164',\n",
       "                                                                           '15',\n",
       "                                                                           '112',\n",
       "                                                                           '9',\n",
       "                                                                           '5',\n",
       "                                                                           '16',\n",
       "                                                                           '145',\n",
       "                                                                           '135',\n",
       "                                                                           '201',\n",
       "                                                                           '187',\n",
       "                                                                           '166',\n",
       "                                                                           '172',\n",
       "                                                                           '244',\n",
       "                                                                           '40',\n",
       "                                                                           '89',\n",
       "                                                                           '185',\n",
       "                                                                           '20', ...])),\n",
       "                                                  ('standardscaler',\n",
       "                                                   StandardScaler())])),\n",
       "                                 ('bin_features',\n",
       "                                  Pipeline(steps=[('columnselector',\n",
       "                                                   ColumnSelector(columns=[]))])),\n",
       "                                 ('cat_features',\n",
       "                                  Pipeline(steps=[('columnselector',\n",
       "                                                   ColumnSelector(columns=['buy_month_feat',\n",
       "                                                                           '252',\n",
       "                                                                           'vas_id'])),\n",
       "                                                  ('onehotencoder',\n",
       "                                                   OneHotEncoder(handle_unknown='ignore'))]))]))]"
      ]
     },
     "execution_count": 100,
     "metadata": {},
     "output_type": "execute_result"
    }
   ],
   "source": [
    "feat_prep_pipeline.steps"
   ]
  },
  {
   "cell_type": "code",
   "execution_count": 101,
   "id": "f178198c",
   "metadata": {},
   "outputs": [
    {
     "data": {
      "text/plain": [
       "257"
      ]
     },
     "execution_count": 101,
     "metadata": {},
     "output_type": "execute_result"
    }
   ],
   "source": [
    "X_test.shape[1]"
   ]
  },
  {
   "cell_type": "code",
   "execution_count": 102,
   "id": "f4f26a78",
   "metadata": {},
   "outputs": [
    {
     "data": {
      "text/plain": [
       "267"
      ]
     },
     "execution_count": 102,
     "metadata": {},
     "output_type": "execute_result"
    }
   ],
   "source": [
    "feat_prep_pipeline.fit(X_train)\n",
    "\n",
    "n_features = feat_prep_pipeline.transform(X_test).shape[1]\n",
    "n_features"
   ]
  },
  {
   "cell_type": "markdown",
   "id": "c231289b",
   "metadata": {},
   "source": [
    "#### Gridsearch для пайплайнов"
   ]
  },
  {
   "cell_type": "code",
   "execution_count": 103,
   "id": "fa19da52",
   "metadata": {},
   "outputs": [],
   "source": [
    "lg_pipe = make_pipeline(\n",
    "    feat_prep_pipeline,\n",
    "    LogisticRegression(random_state=seed)\n",
    ")"
   ]
  },
  {
   "cell_type": "code",
   "execution_count": 104,
   "id": "51cf76f3",
   "metadata": {},
   "outputs": [],
   "source": [
    "def run_grid_search(estimator, X, y, params_grid, cv, scoring='roc_auc', n_jobs=2):\n",
    "    gsc = GridSearchCV(estimator, params_grid, scoring=scoring, cv=cv, n_jobs=n_jobs)\n",
    "    \n",
    "    gsc.fit(X, y)\n",
    "    \n",
    "    print(\"Best %s score: %.2f\" % (scoring, gsc.best_score_))\n",
    "    print()\n",
    "    print(\"Best parameters set found on development set:\")\n",
    "    print()\n",
    "    print(gsc.best_params_)\n",
    "    print()\n",
    "    print(\"Grid scores on development set:\")\n",
    "    print()\n",
    "    \n",
    "    for i, params in enumerate(gsc.cv_results_['params']):\n",
    "        print(\"%0.3f (+/-%0.03f) for %r\"\n",
    "              % (gsc.cv_results_['mean_test_score'][i], gsc.cv_results_['std_test_score'][i] * 2, params))\n",
    "\n",
    "    print()\n",
    "    \n",
    "    return gsc"
   ]
  },
  {
   "cell_type": "code",
   "execution_count": 105,
   "id": "5aa48555",
   "metadata": {},
   "outputs": [
    {
     "data": {
      "text/plain": [
       "['logisticregression',\n",
       " 'logisticregression__C',\n",
       " 'logisticregression__class_weight',\n",
       " 'logisticregression__dual',\n",
       " 'logisticregression__fit_intercept',\n",
       " 'logisticregression__intercept_scaling',\n",
       " 'logisticregression__l1_ratio',\n",
       " 'logisticregression__max_iter',\n",
       " 'logisticregression__multi_class',\n",
       " 'logisticregression__n_jobs',\n",
       " 'logisticregression__penalty',\n",
       " 'logisticregression__random_state',\n",
       " 'logisticregression__solver',\n",
       " 'logisticregression__tol',\n",
       " 'logisticregression__verbose',\n",
       " 'logisticregression__warm_start']"
      ]
     },
     "execution_count": 105,
     "metadata": {},
     "output_type": "execute_result"
    }
   ],
   "source": [
    "[k for k in lg_pipe.get_params().keys() if 'logisticregression' in k]"
   ]
  },
  {
   "cell_type": "code",
   "execution_count": 106,
   "id": "c581cbcc",
   "metadata": {},
   "outputs": [],
   "source": [
    "param_grid = {\n",
    "    'logisticregression__penalty': ['l2'],\n",
    "    'logisticregression__C': [5, 1, 0.1, 0.01],\n",
    "    'logisticregression__class_weight': ['balanced']\n",
    "}"
   ]
  },
  {
   "cell_type": "code",
   "execution_count": 107,
   "id": "ddccff05",
   "metadata": {},
   "outputs": [],
   "source": [
    "KFold_cv = KFold(n_splits=3, shuffle=True, random_state=seed)"
   ]
  },
  {
   "cell_type": "code",
   "execution_count": 108,
   "id": "24df1cc2",
   "metadata": {
    "scrolled": false
   },
   "outputs": [
    {
     "name": "stdout",
     "output_type": "stream",
     "text": [
      "Best roc_auc score: 0.85\n",
      "\n",
      "Best parameters set found on development set:\n",
      "\n",
      "{'logisticregression__C': 1, 'logisticregression__class_weight': 'balanced', 'logisticregression__penalty': 'l2'}\n",
      "\n",
      "Grid scores on development set:\n",
      "\n",
      "0.849 (+/-0.005) for {'logisticregression__C': 5, 'logisticregression__class_weight': 'balanced', 'logisticregression__penalty': 'l2'}\n",
      "0.849 (+/-0.005) for {'logisticregression__C': 1, 'logisticregression__class_weight': 'balanced', 'logisticregression__penalty': 'l2'}\n",
      "0.849 (+/-0.005) for {'logisticregression__C': 0.1, 'logisticregression__class_weight': 'balanced', 'logisticregression__penalty': 'l2'}\n",
      "0.849 (+/-0.005) for {'logisticregression__C': 0.01, 'logisticregression__class_weight': 'balanced', 'logisticregression__penalty': 'l2'}\n",
      "\n",
      "CPU times: total: 1min 9s\n",
      "Wall time: 7min 46s\n"
     ]
    }
   ],
   "source": [
    "%%time\n",
    "lg_gsc = run_grid_search(lg_pipe, X_train, y_train, param_grid, cv=KFold_cv)"
   ]
  },
  {
   "cell_type": "markdown",
   "id": "e92a0dad",
   "metadata": {},
   "source": [
    "Существенных изменений в логистической регрессии не вносит ни один гиперпараметр."
   ]
  },
  {
   "cell_type": "code",
   "execution_count": 109,
   "id": "18f43535",
   "metadata": {},
   "outputs": [],
   "source": [
    "lg_gsc_best_prep = lg_gsc.best_estimator_"
   ]
  },
  {
   "cell_type": "code",
   "execution_count": 110,
   "id": "770bcf40",
   "metadata": {},
   "outputs": [
    {
     "name": "stdout",
     "output_type": "stream",
     "text": [
      "CPU times: total: 1min 29s\n",
      "Wall time: 1min 30s\n"
     ]
    }
   ],
   "source": [
    "%%time\n",
    "lg_gsc_best_prep.fit(X_train, y_train)\n",
    "\n",
    "lg_gsc_best_prep_test_pred = lg_gsc_best_prep.predict_proba(X_test)[:,1]\n",
    "\n",
    "lg_gsc_best_prep_train_pred = lg_gsc_best_prep.predict_proba(X_train)[:,1]"
   ]
  },
  {
   "cell_type": "code",
   "execution_count": 111,
   "id": "6e7bece9",
   "metadata": {},
   "outputs": [
    {
     "data": {
      "image/png": "[encoded data removed]",
      "text/plain": [
       "<Figure size 640x480 with 1 Axes>"
      ]
     },
     "metadata": {},
     "output_type": "display_data"
    }
   ],
   "source": [
    "plt.title(\"log_reg: распределение предсказаний модели на TRAIN\")\n",
    "plt.hist(lg_gsc_best_prep_train_pred[~y_train.astype(bool)], bins=1000, color='r', alpha=0.7);\n",
    "plt.hist(lg_gsc_best_prep_train_pred[y_train.astype(bool)], bins=1000, color='b', alpha=0.7);"
   ]
  },
  {
   "cell_type": "code",
   "execution_count": 112,
   "id": "d6666b2e",
   "metadata": {},
   "outputs": [
    {
     "data": {
      "image/png": "[encoded data removed]",
      "text/plain": [
       "<Figure size 640x480 with 1 Axes>"
      ]
     },
     "metadata": {},
     "output_type": "display_data"
    }
   ],
   "source": [
    "plt.title(\"log_reg: распределение предсказаний модели на TEST\")\n",
    "plt.hist(lg_gsc_best_prep_test_pred[~y_test.astype(bool)], bins=1000, color='r', alpha=0.7);\n",
    "plt.hist(lg_gsc_best_prep_test_pred[y_test.astype(bool)], bins=1000, color='b', alpha=0.7);"
   ]
  },
  {
   "cell_type": "code",
   "execution_count": 120,
   "id": "31289c2f",
   "metadata": {},
   "outputs": [
    {
     "name": "stdout",
     "output_type": "stream",
     "text": [
      "TRAIN\n",
      "              precision    recall  f1-score   support\n",
      "\n",
      "         0.0       0.99      0.88      0.93    538592\n",
      "         1.0       0.22      0.79      0.34     22566\n",
      "\n",
      "    accuracy                           0.88    561158\n",
      "   macro avg       0.60      0.84      0.64    561158\n",
      "weighted avg       0.96      0.88      0.91    561158\n",
      "\n",
      "****************************************************************************************************\n",
      "TEST\n",
      "              precision    recall  f1-score   support\n",
      "\n",
      "         0.0       1.00      0.86      0.92    225378\n",
      "         1.0       0.40      0.97      0.57     22202\n",
      "\n",
      "    accuracy                           0.87    247580\n",
      "   macro avg       0.70      0.91      0.74    247580\n",
      "weighted avg       0.94      0.87      0.89    247580\n",
      "\n"
     ]
    }
   ],
   "source": [
    "threshold = 0.5\n",
    "print('TRAIN')\n",
    "print(classification_report(y_train, lg_gsc_best_prep_train_pred > threshold))\n",
    "print('*' * 100)\n",
    "print('TEST')\n",
    "print(classification_report(y_test, lg_gsc_best_prep_test_pred > threshold))"
   ]
  },
  {
   "cell_type": "markdown",
   "id": "abf91be3",
   "metadata": {},
   "source": [
    "### Отбор признаков"
   ]
  },
  {
   "cell_type": "code",
   "execution_count": 121,
   "id": "72c02f46",
   "metadata": {},
   "outputs": [],
   "source": [
    "from sklearn.feature_selection import SelectFromModel"
   ]
  },
  {
   "cell_type": "code",
   "execution_count": 122,
   "id": "d8c5e25d",
   "metadata": {},
   "outputs": [],
   "source": [
    "feat_select = make_pipeline(\n",
    "    feat_prep_pipeline,\n",
    "    SelectFromModel(LogisticRegression(random_state=seed), threshold=10e-4)\n",
    ")"
   ]
  },
  {
   "cell_type": "code",
   "execution_count": 123,
   "id": "dcf058d6",
   "metadata": {},
   "outputs": [
    {
     "data": {
      "text/plain": [
       "(247580, 267)"
      ]
     },
     "execution_count": 123,
     "metadata": {},
     "output_type": "execute_result"
    }
   ],
   "source": [
    "feat_prep_pipeline.fit(X_train, y_train)\n",
    "feat_prep_pipeline.transform(X_test).shape"
   ]
  },
  {
   "cell_type": "code",
   "execution_count": 124,
   "id": "86a5da25",
   "metadata": {},
   "outputs": [
    {
     "data": {
      "text/plain": [
       "(247580, 253)"
      ]
     },
     "execution_count": 124,
     "metadata": {},
     "output_type": "execute_result"
    }
   ],
   "source": [
    "feat_select.fit(X_train, y_train)\n",
    "feat_select.transform(X_test).shape"
   ]
  },
  {
   "cell_type": "code",
   "execution_count": 125,
   "id": "ef3c1553",
   "metadata": {},
   "outputs": [],
   "source": [
    "lg_feat_select_pipe = make_pipeline(\n",
    "    feat_prep_pipeline,\n",
    "    SelectFromModel(LogisticRegression(random_state=seed, class_weight='balanced', penalty='l2'), threshold=1e-4),\n",
    "    LogisticRegression(random_state=seed, class_weight='balanced', penalty='l2')\n",
    ")"
   ]
  },
  {
   "cell_type": "code",
   "execution_count": 126,
   "id": "571bd135",
   "metadata": {},
   "outputs": [
    {
     "data": {
      "text/plain": [
       "['selectfrommodel',\n",
       " 'pipeline__columnselector',\n",
       " 'pipeline__columnselector__columns',\n",
       " 'pipeline__featureunion__num_features__columnselector',\n",
       " 'pipeline__featureunion__num_features__columnselector__columns',\n",
       " 'pipeline__featureunion__bin_features__columnselector',\n",
       " 'pipeline__featureunion__bin_features__columnselector__columns',\n",
       " 'pipeline__featureunion__cat_features__columnselector',\n",
       " 'pipeline__featureunion__cat_features__columnselector__columns',\n",
       " 'selectfrommodel__estimator__C',\n",
       " 'selectfrommodel__estimator__class_weight',\n",
       " 'selectfrommodel__estimator__dual',\n",
       " 'selectfrommodel__estimator__fit_intercept',\n",
       " 'selectfrommodel__estimator__intercept_scaling',\n",
       " 'selectfrommodel__estimator__l1_ratio',\n",
       " 'selectfrommodel__estimator__max_iter',\n",
       " 'selectfrommodel__estimator__multi_class',\n",
       " 'selectfrommodel__estimator__n_jobs',\n",
       " 'selectfrommodel__estimator__penalty',\n",
       " 'selectfrommodel__estimator__random_state',\n",
       " 'selectfrommodel__estimator__solver',\n",
       " 'selectfrommodel__estimator__tol',\n",
       " 'selectfrommodel__estimator__verbose',\n",
       " 'selectfrommodel__estimator__warm_start',\n",
       " 'selectfrommodel__estimator',\n",
       " 'selectfrommodel__importance_getter',\n",
       " 'selectfrommodel__max_features',\n",
       " 'selectfrommodel__norm_order',\n",
       " 'selectfrommodel__prefit',\n",
       " 'selectfrommodel__threshold']"
      ]
     },
     "execution_count": 126,
     "metadata": {},
     "output_type": "execute_result"
    }
   ],
   "source": [
    "[k for k in lg_feat_select_pipe.get_params() if 'select' in k]"
   ]
  },
  {
   "cell_type": "code",
   "execution_count": 139,
   "id": "6a86a4a3",
   "metadata": {},
   "outputs": [
    {
     "name": "stdout",
     "output_type": "stream",
     "text": [
      "Best roc_auc score: 0.85\n",
      "\n",
      "Best parameters set found on development set:\n",
      "\n",
      "{'selectfrommodel__max_features': 100, 'selectfrommodel__threshold': -inf}\n",
      "\n",
      "Grid scores on development set:\n",
      "\n",
      "0.849 (+/-0.005) for {'selectfrommodel__max_features': None, 'selectfrommodel__threshold': -inf}\n",
      "0.848 (+/-0.007) for {'selectfrommodel__max_features': 10, 'selectfrommodel__threshold': -inf}\n",
      "0.849 (+/-0.008) for {'selectfrommodel__max_features': 50, 'selectfrommodel__threshold': -inf}\n",
      "0.850 (+/-0.006) for {'selectfrommodel__max_features': 100, 'selectfrommodel__threshold': -inf}\n",
      "0.850 (+/-0.006) for {'selectfrommodel__max_features': 150, 'selectfrommodel__threshold': -inf}\n",
      "0.849 (+/-0.005) for {'selectfrommodel__threshold': 0.001}\n",
      "\n",
      "CPU times: total: 1min 30s\n",
      "Wall time: 15min 34s\n"
     ]
    }
   ],
   "source": [
    "%%time\n",
    "param_grid = [\n",
    "    {\n",
    "        \"selectfrommodel__max_features\": [None, 10, 50, 100, 150],\n",
    "        \"selectfrommodel__threshold\": [-np.inf]\n",
    "    },\n",
    "    {\n",
    "        \"selectfrommodel__threshold\": [10e-4]\n",
    "    }\n",
    "]\n",
    "\n",
    "lg_feat_select_gsc = run_grid_search(lg_feat_select_pipe, X_train, y_train, param_grid, KFold_cv)"
   ]
  },
  {
   "cell_type": "markdown",
   "id": "267fef71",
   "metadata": {},
   "source": [
    "### Лучшие параметры LogReg"
   ]
  },
  {
   "cell_type": "code",
   "execution_count": 140,
   "id": "27a85f8a",
   "metadata": {},
   "outputs": [],
   "source": [
    "lg_best = lg_feat_select_gsc.best_estimator_"
   ]
  },
  {
   "cell_type": "code",
   "execution_count": 141,
   "id": "2ab40888",
   "metadata": {},
   "outputs": [
    {
     "name": "stdout",
     "output_type": "stream",
     "text": [
      "CPU times: total: 1min 49s\n",
      "Wall time: 1min 51s\n"
     ]
    }
   ],
   "source": [
    "%%time\n",
    "lg_best.fit(X_train, y_train)\n",
    "\n",
    "lg_pipe_best_train_pred = lg_best.predict_proba(X_train)[:,1]\n",
    "\n",
    "lg_best_test_pred = lg_best.predict_proba(X_test)[:,1]"
   ]
  },
  {
   "cell_type": "code",
   "execution_count": 142,
   "id": "7479df10",
   "metadata": {},
   "outputs": [
    {
     "data": {
      "image/png": "[encoded data removed]",
      "text/plain": [
       "<Figure size 640x480 with 1 Axes>"
      ]
     },
     "metadata": {},
     "output_type": "display_data"
    }
   ],
   "source": [
    "plt.title(\"log_reg: распределение предсказаний модели на TRAIN\")\n",
    "plt.hist(lg_pipe_best_train_pred[~y_train.astype(bool)], bins=1000, color='r', alpha=0.7);\n",
    "plt.hist(lg_pipe_best_train_pred[y_train.astype(bool)], bins=1000, color='b', alpha=0.7);"
   ]
  },
  {
   "cell_type": "code",
   "execution_count": 143,
   "id": "de545649",
   "metadata": {},
   "outputs": [
    {
     "data": {
      "image/png": "[encoded data removed]",
      "text/plain": [
       "<Figure size 640x480 with 1 Axes>"
      ]
     },
     "metadata": {},
     "output_type": "display_data"
    }
   ],
   "source": [
    "plt.title(\"log_reg: распределение предсказаний модели на TEST\")\n",
    "plt.hist(lg_best_test_pred[~y_test.astype(bool)], bins=1000, color='r', alpha=0.7);\n",
    "plt.hist(lg_best_test_pred[y_test.astype(bool)], bins=1000, color='b', alpha=0.7);"
   ]
  },
  {
   "cell_type": "code",
   "execution_count": 144,
   "id": "e899b3f4",
   "metadata": {
    "scrolled": false
   },
   "outputs": [
    {
     "name": "stdout",
     "output_type": "stream",
     "text": [
      "TRAIN\n",
      "              precision    recall  f1-score   support\n",
      "\n",
      "         0.0       0.99      0.88      0.93    538592\n",
      "         1.0       0.22      0.79      0.34     22566\n",
      "\n",
      "    accuracy                           0.88    561158\n",
      "   macro avg       0.60      0.84      0.64    561158\n",
      "weighted avg       0.96      0.88      0.91    561158\n",
      "\n",
      "****************************************************************************************************\n",
      "TEST\n",
      "              precision    recall  f1-score   support\n",
      "\n",
      "         0.0       1.00      0.86      0.92    225378\n",
      "         1.0       0.40      0.97      0.57     22202\n",
      "\n",
      "    accuracy                           0.87    247580\n",
      "   macro avg       0.70      0.91      0.75    247580\n",
      "weighted avg       0.94      0.87      0.89    247580\n",
      "\n"
     ]
    }
   ],
   "source": [
    "threshold = 0.5\n",
    "print('TRAIN')\n",
    "print(classification_report(y_train, lg_pipe_best_train_pred > threshold))\n",
    "print('*' * 100)\n",
    "print('TEST')\n",
    "print(classification_report(y_test, lg_best_test_pred > threshold))"
   ]
  },
  {
   "cell_type": "markdown",
   "id": "a53bb82e",
   "metadata": {},
   "source": [
    "### GradientBoostingClassifier"
   ]
  },
  {
   "cell_type": "code",
   "execution_count": 145,
   "id": "35b4e277",
   "metadata": {},
   "outputs": [],
   "source": [
    "grad_fs_pipe = make_pipeline(\n",
    "    feat_prep_pipeline,\n",
    "    SelectFromModel(LogisticRegression(random_state=seed, class_weight='balanced'), threshold=-np.inf),\n",
    "    GradientBoostingClassifier(random_state=seed)\n",
    ")"
   ]
  },
  {
   "cell_type": "code",
   "execution_count": 146,
   "id": "91213f47",
   "metadata": {
    "scrolled": false
   },
   "outputs": [
    {
     "data": {
      "text/plain": [
       "['gradientboostingclassifier',\n",
       " 'gradientboostingclassifier__ccp_alpha',\n",
       " 'gradientboostingclassifier__criterion',\n",
       " 'gradientboostingclassifier__init',\n",
       " 'gradientboostingclassifier__learning_rate',\n",
       " 'gradientboostingclassifier__loss',\n",
       " 'gradientboostingclassifier__max_depth',\n",
       " 'gradientboostingclassifier__max_features',\n",
       " 'gradientboostingclassifier__max_leaf_nodes',\n",
       " 'gradientboostingclassifier__min_impurity_decrease',\n",
       " 'gradientboostingclassifier__min_samples_leaf',\n",
       " 'gradientboostingclassifier__min_samples_split',\n",
       " 'gradientboostingclassifier__min_weight_fraction_leaf',\n",
       " 'gradientboostingclassifier__n_estimators',\n",
       " 'gradientboostingclassifier__n_iter_no_change',\n",
       " 'gradientboostingclassifier__random_state',\n",
       " 'gradientboostingclassifier__subsample',\n",
       " 'gradientboostingclassifier__tol',\n",
       " 'gradientboostingclassifier__validation_fraction',\n",
       " 'gradientboostingclassifier__verbose',\n",
       " 'gradientboostingclassifier__warm_start']"
      ]
     },
     "execution_count": 146,
     "metadata": {},
     "output_type": "execute_result"
    }
   ],
   "source": [
    "[k for k in grad_fs_pipe.get_params() if 'gradient' in k]"
   ]
  },
  {
   "cell_type": "code",
   "execution_count": 3,
   "id": "3ea77634",
   "metadata": {},
   "outputs": [],
   "source": [
    "params = {\n",
    "    'selectfrommodel__max_features': [100],\n",
    "    'gradientboostingclassifier__max_features': ['sqrt', 'log2', None],\n",
    "#     'gradientboostingclassifier__loss': ['exponential', 'log_loss'],\n",
    "#     'gradientboostingclassifier__ccp_alpha': [],\n",
    "#     'gradientboostingclassifier__criterion': [],\n",
    "#     'gradientboostingclassifier__init': [],\n",
    "#     'gradientboostingclassifier__learning_rate': [],\n",
    "#     'gradientboostingclassifier__max_depth': [1, 3, 5],\n",
    "#     'gradientboostingclassifier__max_leaf_nodes': [],\n",
    "#     'gradientboostingclassifier__min_impurity_decrease': [],\n",
    "#     'gradientboostingclassifier__min_samples_leaf': [],\n",
    "#     'gradientboostingclassifier__min_samples_split': [],\n",
    "#     'gradientboostingclassifier__min_weight_fraction_leaf': [],\n",
    "#     'gradientboostingclassifier__n_estimators': [],\n",
    "#     'gradientboostingclassifier__n_iter_no_change': [],\n",
    "#     'gradientboostingclassifier__random_state': [],\n",
    "#     'gradientboostingclassifier__subsample': [],\n",
    "#     'gradientboostingclassifier__tol': [],\n",
    "#     'gradientboostingclassifier__validation_fraction': [],\n",
    "#     'gradientboostingclassifier__verbose': [],\n",
    "#     'gradientboostingclassifier__warm_start': []\n",
    "}"
   ]
  },
  {
   "cell_type": "code",
   "execution_count": 4,
   "id": "333f2390",
   "metadata": {},
   "outputs": [
    {
     "ename": "NameError",
     "evalue": "name 'run_grid_search' is not defined",
     "output_type": "error",
     "traceback": [
      "\u001b[1;31m---------------------------------------------------------------------------\u001b[0m",
      "\u001b[1;31mNameError\u001b[0m                                 Traceback (most recent call last)",
      "File \u001b[1;32m<timed exec>:1\u001b[0m\n",
      "\u001b[1;31mNameError\u001b[0m: name 'run_grid_search' is not defined"
     ]
    }
   ],
   "source": [
    "%%time\n",
    "grad_fs_gsc = run_grid_search(grad_fs_pipe, X_train, y_train, params, KFold_cv, n_jobs=-1)"
   ]
  },
  {
   "cell_type": "code",
   "execution_count": null,
   "id": "1d6c0437",
   "metadata": {},
   "outputs": [],
   "source": [
    "grad_fs_best = grad_fs_gsc.best_estimator_"
   ]
  },
  {
   "cell_type": "code",
   "execution_count": null,
   "id": "b820d801",
   "metadata": {},
   "outputs": [],
   "source": [
    "%%time\n",
    "grad_fs_best.fit(X_train, y_train)\n",
    "\n",
    "grad_fs_train_pred = grad_fs_best.predict_proba(X_train)[:,1]\n",
    "grad_fs_test_pred = grad_fs_best.predict_proba(X_test)[:,1]"
   ]
  },
  {
   "cell_type": "code",
   "execution_count": null,
   "id": "24907377",
   "metadata": {},
   "outputs": [],
   "source": [
    "plt.title(\"GradBoosting: распределение предсказаний модели на Train\")\n",
    "plt.hist(grad_fs_train_pred[~y_train.astype(bool)], bins=1000, color='r', alpha=0.7);\n",
    "plt.hist(grad_fs_train_pred[y_train.astype(bool)], bins=1000, color='b', alpha=0.7);"
   ]
  },
  {
   "cell_type": "code",
   "execution_count": null,
   "id": "0caaa02d",
   "metadata": {},
   "outputs": [],
   "source": [
    "plt.title(\"GradBoosting: распределение предсказаний модели на Test\")\n",
    "plt.hist(grad_fs_test_pred[~y_test.astype(bool)], bins=1000, color='r', alpha=0.7);\n",
    "plt.hist(grad_fs_test_pred[y_test.astype(bool)], bins=1000, color='b', alpha=0.7);"
   ]
  },
  {
   "cell_type": "code",
   "execution_count": null,
   "id": "6bbdb3c7",
   "metadata": {
    "scrolled": false
   },
   "outputs": [],
   "source": [
    "print('TRAIN')\n",
    "print(classification_report(y_train, grad_fs_train_pred > 0.2))\n",
    "print('*' * 100)\n",
    "print('TEST')\n",
    "print(classification_report(y_test, grad_fs_test_pred > 0.2))"
   ]
  },
  {
   "cell_type": "markdown",
   "id": "c6afbd90",
   "metadata": {},
   "source": [
    "### LightGBM Classifier"
   ]
  },
  {
   "cell_type": "code",
   "execution_count": null,
   "id": "2301c298",
   "metadata": {},
   "outputs": [],
   "source": [
    "lgbm_fs_pipe = make_pipeline(\n",
    "    feat_prep_pipeline,\n",
    "    SelectFromModel(LogisticRegression(random_state=seed, class_weight='balanced'), threshold=-np.inf),\n",
    "    LGBMClassifier(random_state=seed, objective='binary')\n",
    ")"
   ]
  },
  {
   "cell_type": "code",
   "execution_count": null,
   "id": "a6c7b055",
   "metadata": {
    "scrolled": false
   },
   "outputs": [],
   "source": [
    "[k for k in lgbm_fs_pipe.get_params() if 'lgbm' in k]"
   ]
  },
  {
   "cell_type": "code",
   "execution_count": null,
   "id": "c62e0c97",
   "metadata": {},
   "outputs": [],
   "source": [
    "params = [\n",
    "    {\n",
    "        'selectfrommodel__max_features': [50]\n",
    "    },\n",
    "    {\n",
    "        'selectfrommodel_max_features': [None],\n",
    "#     'lgbmclassifier__boosting_type': ['gbdt', 'dart', 'goss'],\n",
    "#     'lgbmclassifier__max_depth': [2, 4, 6, 8],\n",
    "#     'lgbmclassifier__reg_alpha': [3, 1, 0.5, 0.1, 0.01],\n",
    "#     'lgbmclassifier__reg_lambda': [3, 1, 0.5, 0.1, 0.01],\n",
    "#     'lgbmclassifier__learning_rate': [1, 0.5, 0.3, 0.1, 0.05, 0.01],\n",
    "#     'lgbmclassifier__n_estimators': [10, 50, 100, 200, 300, 500],\n",
    "#     'lgbmclassifier__class_weight': ['balanced'],\n",
    "#     'lgbmclassifier__num_leaves': [10],\n",
    "    }\n",
    "]"
   ]
  },
  {
   "cell_type": "code",
   "execution_count": null,
   "id": "40d7b341",
   "metadata": {},
   "outputs": [],
   "source": [
    "%%time\n",
    "lgbm_feat_select_gsc = run_grid_search(lgbm_fs_pipe, X_train, y_train, params, KFold_cv)"
   ]
  },
  {
   "cell_type": "code",
   "execution_count": null,
   "id": "bac836e0",
   "metadata": {},
   "outputs": [],
   "source": [
    "lgbm_pipe_best = lgbm_feat_select_gsc.best_estimator_"
   ]
  },
  {
   "cell_type": "code",
   "execution_count": null,
   "id": "498bf62c",
   "metadata": {},
   "outputs": [],
   "source": [
    "%%time\n",
    "lgbm_pipe_best.fit(X_train, y_train)\n",
    "\n",
    "lgbm_pipe_best_pred = lgbm_pipe_best.predict_proba(X_test)[:,1]"
   ]
  },
  {
   "cell_type": "code",
   "execution_count": null,
   "id": "f2fe3980",
   "metadata": {},
   "outputs": [],
   "source": [
    "lgbm_pipe_train_pred = lgbm_pipe_best.predict_proba(X_train)[:,1]"
   ]
  },
  {
   "cell_type": "code",
   "execution_count": null,
   "id": "612d0a6c",
   "metadata": {},
   "outputs": [],
   "source": [
    "plt.title(\"LightGBM: распределение предсказаний модели на Train\")\n",
    "plt.hist(lgbm_pipe_train_pred[~y_train.astype(bool)], bins=100, color='r', alpha=0.7);\n",
    "plt.hist(lgbm_pipe_train_pred[y_train.astype(bool)], bins=100, color='b', alpha=0.7);"
   ]
  },
  {
   "cell_type": "code",
   "execution_count": null,
   "id": "1e947d42",
   "metadata": {},
   "outputs": [],
   "source": [
    "plt.title(\"LightGBM: распределение предсказаний модели на Test\")\n",
    "plt.hist(lgbm_pipe_best_pred[~y_test.astype(bool)], bins=100, color='r', alpha=0.7);\n",
    "plt.hist(lgbm_pipe_best_pred[y_test.astype(bool)], bins=100, color='b', alpha=0.7);"
   ]
  },
  {
   "cell_type": "code",
   "execution_count": null,
   "id": "07f86d14",
   "metadata": {
    "scrolled": false
   },
   "outputs": [],
   "source": [
    "print('TRAIN')\n",
    "print(classification_report(y_train, lgbm_pipe_train_pred > 0.8))\n",
    "print('*' * 100)\n",
    "print('TEST')\n",
    "print(classification_report(y_test, lgbm_pipe_best_pred > 0.8))"
   ]
  },
  {
   "cell_type": "markdown",
   "id": "372007d3",
   "metadata": {},
   "source": [
    "### Сравнение моделей"
   ]
  },
  {
   "cell_type": "code",
   "execution_count": null,
   "id": "af50a130",
   "metadata": {},
   "outputs": [],
   "source": [
    "f, (ax1, ax2) = plt.subplots(1, 2, sharey=True)\n",
    "\n",
    "f.set_figheight(24)\n",
    "f.set_figwidth(12)\n",
    "\n",
    "ax1 = plt.subplot(211)\n",
    "ax1.set_title('ROC')\n",
    "ax1.set_xlabel('TPR')\n",
    "ax1.set_ylabel('FPR')\n",
    "\n",
    "\n",
    "ax2 = plt.subplot(212)\n",
    "ax2.set_title('PR')\n",
    "ax2.set_xlabel('Recall')\n",
    "ax2.set_ylabel('Precision')\n",
    "\n",
    "ax1.plot([0, 1], [0, 1], 'k--')\n",
    "\n",
    "fpr, tpr, roc_thresholds = roc_curve(y_test, bl_y_pred)\n",
    "precision, recall, pr_thresholds = precision_recall_curve(y_test, bl_y_pred)\n",
    "ax1.plot(fpr, tpr, label='Baseline', color='b')\n",
    "ax2.plot(recall, precision, label='Baseline', color='b')\n",
    "print(\"Baseline: AUC_PR = %.3f\" % auc(recall, precision))\n",
    "print(\"Baseline: AUC_ROC = %.3f\" % auc(fpr, tpr))\n",
    "\n",
    "\n",
    "fpr, tpr, roc_thresholds = roc_curve(y_test, lg_fs_pred)\n",
    "precision, recall, pr_thresholds = precision_recall_curve(y_test, lg_fs_pred)\n",
    "ax1.plot(fpr, tpr, label=\"lg_fs_pred\", color='g')\n",
    "ax2.plot(recall, precision, label=\"lg_fs_pred\", color='g')\n",
    "print(\"lg_fs_pred: AUC_PR = %.3f\" % auc(recall, precision))\n",
    "print(\"lg_fs_pred: AUC_ROC = %.3f\" % auc(fpr, tpr))\n",
    "\n",
    "\n",
    "fpr, tpr, roc_thresholds = roc_curve(y_test, gb_fs_pred)\n",
    "precision, recall, pr_thresholds = precision_recall_curve(y_test, gb_fs_pred)\n",
    "ax1.plot(fpr, tpr, label=\"gb_fs_pred\", color='purple')\n",
    "ax2.plot(recall, precision, label=\"gb_fs_pred\", color='purple')\n",
    "print(\"gb_fs_pred: AUC_PR = %.3f\" % auc(recall, precision))\n",
    "print(\"gb_fs_pred: AUC_ROC = %.3f\" % auc(fpr, tpr))\n",
    "ax1.legend(loc=\"lower right\")\n",
    "ax2.legend(loc=\"lower right\");"
   ]
  }
 ],
 "metadata": {
  "kernelspec": {
   "display_name": "Python 3 (ipykernel)",
   "language": "python",
   "name": "python3"
  },
  "language_info": {
   "codemirror_mode": {
    "name": "ipython",
    "version": 3
   },
   "file_extension": ".py",
   "mimetype": "text/x-python",
   "name": "python",
   "nbconvert_exporter": "python",
   "pygments_lexer": "ipython3",
   "version": "3.9.0"
  }
 },
 "nbformat": 4,
 "nbformat_minor": 5
}
