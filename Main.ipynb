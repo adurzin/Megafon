{
 "cells": [
  {
   "cell_type": "code",
   "execution_count": 1,
   "id": "689c0de5",
   "metadata": {},
   "outputs": [],
   "source": [
    "import utils\n",
    "import pickle\n",
    "import pandas as pd\n",
    "\n",
    "# import numpy as np\n",
    "# from datetime import datetime\n",
    "# from dask import dataframe"
   ]
  },
  {
   "cell_type": "code",
   "execution_count": 2,
   "id": "fd54a7cc",
   "metadata": {},
   "outputs": [],
   "source": [
    "test_path = 'data_test.csv'"
   ]
  },
  {
   "cell_type": "code",
   "execution_count": 3,
   "id": "cea21079",
   "metadata": {},
   "outputs": [
    {
     "name": "stdout",
     "output_type": "stream",
     "text": [
      "CPU times: total: 8min 43s\n",
      "Wall time: 2min 56s\n"
     ]
    }
   ],
   "source": [
    "%time test = utils.prepare_test(test_path, 'features.csv/features.csv')"
   ]
  },
  {
   "cell_type": "code",
   "execution_count": 4,
   "id": "bb64905d",
   "metadata": {},
   "outputs": [],
   "source": [
    "with open('LGBMClassifier', 'rb') as f:\n",
    "    lgbm = pickle.load(f)"
   ]
  },
  {
   "cell_type": "code",
   "execution_count": 5,
   "id": "c9a1007e",
   "metadata": {},
   "outputs": [],
   "source": [
    "df = pd.read_csv(test_path, index_col='Unnamed: 0')\n",
    "df['target_proba'] = lgbm.predict_proba(test)[:, 1]\n",
    "df.to_csv('answers_test.csv', index=False)"
   ]
  }
 ],
 "metadata": {
  "kernelspec": {
   "display_name": "Python 3 (ipykernel)",
   "language": "python",
   "name": "python3"
  },
  "language_info": {
   "codemirror_mode": {
    "name": "ipython",
    "version": 3
   },
   "file_extension": ".py",
   "mimetype": "text/x-python",
   "name": "python",
   "nbconvert_exporter": "python",
   "pygments_lexer": "ipython3",
   "version": "3.9.0"
  }
 },
 "nbformat": 4,
 "nbformat_minor": 5
}
